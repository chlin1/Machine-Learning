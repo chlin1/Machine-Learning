{
  "nbformat": 4,
  "nbformat_minor": 0,
  "metadata": {
    "colab": {
      "name": "KNN.ipynb",
      "version": "0.3.2",
      "provenance": [],
      "toc_visible": true,
      "include_colab_link": true
    },
    "kernelspec": {
      "name": "python3",
      "display_name": "Python 3"
    }
  },
  "cells": [
    {
      "cell_type": "markdown",
      "metadata": {
        "id": "view-in-github",
        "colab_type": "text"
      },
      "source": [
        "<a href=\"https://colab.research.google.com/github/chlin1/Machine-Learning/blob/master/KNN.ipynb\" target=\"_parent\"><img src=\"https://colab.research.google.com/assets/colab-badge.svg\" alt=\"Open In Colab\"/></a>"
      ]
    },
    {
      "metadata": {
        "id": "14He_CVGlZsp",
        "colab_type": "text"
      },
      "cell_type": "markdown",
      "source": [
        "#( Implement k-Nearest Neighbors in Python From Scratch)[https://machinelearningmastery.com/tutorial-to-implement-k-nearest-neighbors-in-python-from-scratch/]"
      ]
    },
    {
      "metadata": {
        "id": "ZBdbTCFhlqU4",
        "colab_type": "text"
      },
      "cell_type": "markdown",
      "source": [
        "## What is k-Nearest Neighbors\n",
        "\n",
        "The model for kNN is the entire training dataset. When a prediction is required for a unseen data instance, the kNN algorithm will search through the training dataset for the k-most similar instances. The prediction attribute of the most similar instances is summarized and returned as the prediction for the unseen instance.\n",
        "\n",
        "  - similarity measure: For real-valued data, the Euclidean distance can be used. Other other types of data such as categorical or binary data, Hamming distance can be used.\n",
        "  \n",
        "  - regression output: the average of the predicted attribute; classification output: the most prevalent class\n",
        "  \n",
        "  \n",
        "  - k-Nearest Neighbor: A simple algorithm to understand and implement, and a powerful non-parametric method.\n",
        "  - Instanced-based method: Model the problem using data instances (observations).\n",
        "  - Competitive-learning: Learning and predictive decisions are made by internal competition between model elements.\n",
        "  - Lazy-learning: A model is not constructed until it is needed in order to make a prediction.\n",
        "  - Similarity Measure: Calculating objective distance measures between data instances is a key feature of the algorithm."
      ]
    },
    {
      "metadata": {
        "id": "NB7sdv17pJ20",
        "colab_type": "text"
      },
      "cell_type": "markdown",
      "source": [
        "## How to implement k-Nearest Neighbors in Python\n",
        "\n",
        "- Handle Data: Open the dataset from CSV and split into test/train datasets.\n",
        "- Similarity: Calculate the distance between two data instances.\n",
        "- Neighbors: Locate k most similar data instances.\n",
        "- Response: Generate a response from a set of data instances.\n",
        "- Accuracy: Summarize the accuracy of predictions.\n",
        "- Main: Tie it all together."
      ]
    },
    {
      "metadata": {
        "id": "JW9rngavxcq0",
        "colab_type": "text"
      },
      "cell_type": "markdown",
      "source": [
        "### 1 Handle data\n",
        "\n",
        "  - read data from url. see [1](https://www.quora.com/How-can-I-open-a-URL-file-and-read-it-print-it-using-Python-3-5), [2](https://stackoverflow.com/questions/1393324/in-python-given-a-url-to-a-text-file-what-is-the-simplest-way-to-read-the-cont)\n",
        "   "
      ]
    },
    {
      "metadata": {
        "id": "ccZOAY1Y0QHH",
        "colab_type": "code",
        "colab": {}
      },
      "cell_type": "code",
      "source": [
        "import pandas as pd\n",
        "url = 'https://raw.githubusercontent.com/chlin1/Machine-Learning/master/data/iris.data'\n",
        "data = pd.read_csv(url)\n",
        "#data"
      ],
      "execution_count": 0,
      "outputs": []
    },
    {
      "metadata": {
        "id": "xPdNe3HJxj2c",
        "colab_type": "code",
        "colab": {}
      },
      "cell_type": "code",
      "source": [
        "import requests\n",
        "url = 'https://raw.githubusercontent.com/chlin1/Machine-Learning/master/data/iris.data'\n",
        "response = requests.get(url)\n",
        "#print(response.text)"
      ],
      "execution_count": 0,
      "outputs": []
    },
    {
      "metadata": {
        "id": "hcWOPMBauJle",
        "colab_type": "code",
        "colab": {}
      },
      "cell_type": "code",
      "source": [
        "from urllib.request import urlopen\n",
        "target_url = 'https://raw.githubusercontent.com/chlin1/Machine-Learning/master/data/iris.data'\n",
        "data = urlopen(target_url)\n",
        "#data.readlines()\n"
      ],
      "execution_count": 0,
      "outputs": []
    },
    {
      "metadata": {
        "id": "0nZh7UamrVbq",
        "colab_type": "code",
        "colab": {}
      },
      "cell_type": "code",
      "source": [
        "import urllib.request as urllib2\n",
        "\n",
        "target_url = 'https://raw.githubusercontent.com/chlin1/Machine-Learning/master/data/iris.data'\n",
        "f = urllib2.urlopen(target_url)\n",
        "#for l in f.readlines():\n",
        "#    print (l)"
      ],
      "execution_count": 0,
      "outputs": []
    },
    {
      "metadata": {
        "id": "MZTPil-k8G2e",
        "colab_type": "code",
        "colab": {
          "base_uri": "https://localhost:8080/",
          "height": 163
        },
        "outputId": "392cef0a-67fc-461f-b760-606515b29262"
      },
      "cell_type": "code",
      "source": [
        "url = 'https://raw.githubusercontent.com/chlin1/Machine-Learning/master/data/iris.data'\n",
        "data = pd.read_csv(url, header=None, index_col=None, names=[\"1\",\"2\",\"3\",\"4\",'y'])\n",
        "print(data.shape)\n",
        "print(data.head())\n",
        "dataset = data.values\n",
        "len(data.values)"
      ],
      "execution_count": 81,
      "outputs": [
        {
          "output_type": "stream",
          "text": [
            "(150, 5)\n",
            "     1    2    3    4            y\n",
            "0  5.1  3.5  1.4  0.2  Iris-setosa\n",
            "1  4.9  3.0  1.4  0.2  Iris-setosa\n",
            "2  4.7  3.2  1.3  0.2  Iris-setosa\n",
            "3  4.6  3.1  1.5  0.2  Iris-setosa\n",
            "4  5.0  3.6  1.4  0.2  Iris-setosa\n"
          ],
          "name": "stdout"
        },
        {
          "output_type": "execute_result",
          "data": {
            "text/plain": [
              "150"
            ]
          },
          "metadata": {
            "tags": []
          },
          "execution_count": 81
        }
      ]
    },
    {
      "metadata": {
        "id": "aNkut-AjrYaX",
        "colab_type": "code",
        "colab": {}
      },
      "cell_type": "code",
      "source": [
        "# function to split dataset to trainingset and testset\n",
        "# dataset: nparray\n",
        "# split: float\n",
        "def loadDataset(dataset, split, trainingSet=[] , testSet=[]):\n",
        "  for x in range(len(dataset)-1):\n",
        "    for y in range(4):\n",
        "      dataset[x][y] = float(dataset[x][y])\n",
        "      if random.random() < split: \n",
        "        trainingSet.append(dataset[x])\n",
        "      else: \n",
        "        testSet.append(dataset[x])\n",
        "\t   "
      ],
      "execution_count": 0,
      "outputs": []
    },
    {
      "metadata": {
        "id": "SUzFCKY91ry-",
        "colab_type": "code",
        "colab": {
          "base_uri": "https://localhost:8080/",
          "height": 54
        },
        "outputId": "304677e2-3e90-411d-b7fb-260292e491d2"
      },
      "cell_type": "code",
      "source": [
        "import pandas\n",
        "import random\n",
        "\n",
        "trainingSet=[]\n",
        "testSet=[]\n",
        "\n",
        "url = 'https://raw.githubusercontent.com/chlin1/Machine-Learning/master/data/iris.data'\n",
        "data = pd.read_csv(url, header=None, index_col=None , names=[\"1\",\"2\",\"3\",\"4\",\"y\"])\n",
        "dataset = data.values\n",
        "loadDataset(dataset, 0.66, trainingSet, testSet)\n",
        "print ('Train: ' + repr(len(trainingSet)))\n",
        "print ('Test: ' + repr(len(testSet)))\n"
      ],
      "execution_count": 104,
      "outputs": [
        {
          "output_type": "stream",
          "text": [
            "Train: 401\n",
            "Test: 195\n"
          ],
          "name": "stdout"
        }
      ]
    },
    {
      "metadata": {
        "id": "x2pUZR-F3_tr",
        "colab_type": "code",
        "colab": {
          "base_uri": "https://localhost:8080/",
          "height": 35
        },
        "outputId": "e9a255a2-0b6a-4b2c-fef0-8cd6a140d059"
      },
      "cell_type": "code",
      "source": [
        "len(data.values)"
      ],
      "execution_count": 55,
      "outputs": [
        {
          "output_type": "execute_result",
          "data": {
            "text/plain": [
              "149"
            ]
          },
          "metadata": {
            "tags": []
          },
          "execution_count": 55
        }
      ]
    },
    {
      "metadata": {
        "id": "HXaO99Ge_MUB",
        "colab_type": "text"
      },
      "cell_type": "markdown",
      "source": [
        "### 2 Similarlity\n",
        "Given that all four flower measurements are numeric and have the same units, we can directly use the Euclidean distance measure. "
      ]
    },
    {
      "metadata": {
        "id": "eTyu0zJ6_Rw7",
        "colab_type": "code",
        "colab": {}
      },
      "cell_type": "code",
      "source": [
        "import math\n",
        "def euclideanDistance(instance1, instance2, length):\n",
        "\tdistance = 0\n",
        "\tfor x in range(length):\n",
        "\t\tdistance += pow((instance1[x] - instance2[x]), 2)\n",
        "\treturn math.sqrt(distance)"
      ],
      "execution_count": 0,
      "outputs": []
    },
    {
      "metadata": {
        "id": "9Wyw0TCM_U3D",
        "colab_type": "code",
        "colab": {}
      },
      "cell_type": "code",
      "source": [
        "import math\n",
        "def euclideanDistance(instance1, instance2, length):\n",
        "\tdistance = 0\n",
        "\tfor x in range(length):\n",
        "\t\tdistance += pow((instance1[x] - instance2[x]), 2)\n",
        "\treturn math.sqrt(distance)"
      ],
      "execution_count": 0,
      "outputs": []
    },
    {
      "metadata": {
        "id": "JUtAHHbh_bh0",
        "colab_type": "text"
      },
      "cell_type": "markdown",
      "source": [
        "### 3 Neighbors\n",
        "the getNeighbors function that returns k most similar neighbors from the training set for a given test instance"
      ]
    },
    {
      "metadata": {
        "id": "jk8SQfxU_y5S",
        "colab_type": "code",
        "colab": {}
      },
      "cell_type": "code",
      "source": [
        "def getNeighbors(trainingSet, testInstance, k):\n",
        "\tdistances = []\n",
        "\tlength = len(testInstance)-1\n",
        "\tfor x in range(len(trainingSet)):\n",
        "\t\tdist = euclideanDistance(testInstance, trainingSet[x], length)\n",
        "\t\tdistances.append((trainingSet[x], dist))\n",
        "\tdistances.sort(key= lambda x: x[1])              \n",
        "\tneighbors = []\n",
        "\tfor x in range(k):\n",
        "\t\tneighbors.append(distances[x][0])\n",
        "\treturn neighbors"
      ],
      "execution_count": 0,
      "outputs": []
    },
    {
      "metadata": {
        "id": "K9Z2r8Wn_1DJ",
        "colab_type": "code",
        "colab": {
          "base_uri": "https://localhost:8080/",
          "height": 35
        },
        "outputId": "3ec961af-70e1-45fd-c1b7-0f7a13ef9607"
      },
      "cell_type": "code",
      "source": [
        "trainSet = [[2, 2, 2, 'a'], [4, 4, 4, 'b']]\n",
        "testInstance = [5, 5, 5]\n",
        "k = 1\n",
        "neighbors = getNeighbors(trainSet, testInstance, 1)\n",
        "print(neighbors)"
      ],
      "execution_count": 85,
      "outputs": [
        {
          "output_type": "stream",
          "text": [
            "[[4, 4, 4, 'b']]\n"
          ],
          "name": "stdout"
        }
      ]
    },
    {
      "metadata": {
        "id": "WFXAZpaIA7Yh",
        "colab_type": "text"
      },
      "cell_type": "markdown",
      "source": [
        "### 4 Response\n",
        "the function for getting the majority voted response from a number of neighbors"
      ]
    },
    {
      "metadata": {
        "id": "r0rIw9sOBGXJ",
        "colab_type": "code",
        "colab": {}
      },
      "cell_type": "code",
      "source": [
        "import operator\n",
        "def getResponse(neighbors):\n",
        "\tclassVotes = {}\n",
        "\tfor x in range(len(neighbors)):\n",
        "\t\tresponse = neighbors[x][-1]\n",
        "\t\tif response in classVotes:\n",
        "\t\t\tclassVotes[response] += 1\n",
        "\t\telse:\n",
        "\t\t\tclassVotes[response] = 1\n",
        "\tsortedVotes = sorted(classVotes.items(), key= lambda x: (x[1],x[0]), reverse=True)\n",
        "\treturn sortedVotes[0][0]"
      ],
      "execution_count": 0,
      "outputs": []
    },
    {
      "metadata": {
        "id": "aAZjg5_0BJ84",
        "colab_type": "code",
        "colab": {
          "base_uri": "https://localhost:8080/",
          "height": 35
        },
        "outputId": "50c7c5f1-d25c-44a1-f87a-7eca5f46434c"
      },
      "cell_type": "code",
      "source": [
        "neighbors = [[1,1,1,'a'], [2,2,2,'a'], [3,3,3,'b']]\n",
        "response = getResponse(neighbors)\n",
        "print(response)"
      ],
      "execution_count": 99,
      "outputs": [
        {
          "output_type": "stream",
          "text": [
            "a\n"
          ],
          "name": "stdout"
        }
      ]
    },
    {
      "metadata": {
        "id": "OLF1UZ2hCz6X",
        "colab_type": "code",
        "colab": {
          "base_uri": "https://localhost:8080/",
          "height": 126
        },
        "outputId": "8c4f5354-5e58-4fb2-e817-6790b6d9da0b"
      },
      "cell_type": "code",
      "source": [
        "key_value ={}     \n",
        "   \n",
        "# Initializing the value  \n",
        "key_value[2] = 56       \n",
        "key_value[1] = 2 \n",
        "key_value[5] = 12 \n",
        "key_value[4] = 24\n",
        "key_value[6] = 18      \n",
        "key_value[3] = 323 \n",
        "print(key_value)\n",
        "print(key_value.keys())\n",
        "print(key_value.values())\n",
        "print(key_value.items())\n",
        "print(sorted(key_value))\n",
        "print(sorted(key_value.items(), key = lambda x: (x[1],x[0])))"
      ],
      "execution_count": 97,
      "outputs": [
        {
          "output_type": "stream",
          "text": [
            "{2: 56, 1: 2, 5: 12, 4: 24, 6: 18, 3: 323}\n",
            "dict_keys([2, 1, 5, 4, 6, 3])\n",
            "dict_values([56, 2, 12, 24, 18, 323])\n",
            "dict_items([(2, 56), (1, 2), (5, 12), (4, 24), (6, 18), (3, 323)])\n",
            "[1, 2, 3, 4, 5, 6]\n",
            "[(1, 2), (5, 12), (6, 18), (4, 24), (2, 56), (3, 323)]\n"
          ],
          "name": "stdout"
        }
      ]
    },
    {
      "metadata": {
        "id": "UubWjxZiU3PA",
        "colab_type": "text"
      },
      "cell_type": "markdown",
      "source": [
        "### 5 Accuracy\n",
        "the getAccuracy function that sums the total correct predictions and returns the accuracy as a percentage of correct classifications."
      ]
    },
    {
      "metadata": {
        "id": "KyG3XxnSVM16",
        "colab_type": "code",
        "colab": {}
      },
      "cell_type": "code",
      "source": [
        "def getAccuracy(testSet, predictions):\n",
        "\tcorrect = 0\n",
        "\tfor x in range(len(testSet)):\n",
        "\t\tif testSet[x][-1] is predictions[x]:\n",
        "\t\t\tcorrect += 1\n",
        "\treturn (correct/float(len(testSet))) * 100.0"
      ],
      "execution_count": 0,
      "outputs": []
    },
    {
      "metadata": {
        "id": "E2MB3ypdVP9f",
        "colab_type": "code",
        "colab": {
          "base_uri": "https://localhost:8080/",
          "height": 35
        },
        "outputId": "7bdbe17d-1f02-4732-e51c-07908b1a6182"
      },
      "cell_type": "code",
      "source": [
        "testSet = [[1,1,1,'a'], [2,2,2,'a'], [3,3,3,'b']]\n",
        "predictions = ['a', 'a', 'a']\n",
        "accuracy = getAccuracy(testSet, predictions)\n",
        "print(accuracy)"
      ],
      "execution_count": 101,
      "outputs": [
        {
          "output_type": "stream",
          "text": [
            "66.66666666666666\n"
          ],
          "name": "stdout"
        }
      ]
    },
    {
      "metadata": {
        "id": "lRrIEUoe2ibU",
        "colab_type": "text"
      },
      "cell_type": "markdown",
      "source": [
        "## Main\n",
        "\n",
        "Putting everything together"
      ]
    },
    {
      "metadata": {
        "id": "EcCDvXko2kRs",
        "colab_type": "code",
        "colab": {
          "base_uri": "https://localhost:8080/",
          "height": 3545
        },
        "outputId": "4f3e96c0-6371-4f29-cc02-969cc550f32c"
      },
      "cell_type": "code",
      "source": [
        "# Example of kNN implemented from Scratch in Python\n",
        "\n",
        "import pandas\n",
        "import random\n",
        "import math\n",
        "import operator\n",
        "\n",
        "# function to split dataset to trainingset and testset\n",
        "# dataset: nparray\n",
        "# split: float\n",
        "def loadDataset(dataset, split, trainingSet=[] , testSet=[]):\n",
        "  # split data to training set and testset\n",
        "  # input: nparray: dataset; float: split (0~1)\n",
        "  # output: list: traningSet, testSet\n",
        "  for x in range(len(dataset)-1):\n",
        "    for y in range(4):\n",
        "      dataset[x][y] = float(dataset[x][y])\n",
        "      if random.random() < split: \n",
        "        trainingSet.append(dataset[x])\n",
        "      else: \n",
        "        testSet.append(dataset[x])\n",
        "\n",
        "\n",
        "def euclideanDistance(instance1, instance2, length):\n",
        "  # compute euclidean distance\n",
        "  # input: list: instance1, instance2; int: length\n",
        "\tdistance = 0\n",
        "\tfor x in range(length):\n",
        "\t\tdistance += pow((instance1[x] - instance2[x]), 2)\n",
        "\treturn math.sqrt(distance)\n",
        "\n",
        "def getNeighbors(trainingSet, testInstance, k):\n",
        "  # compute k nnbs\n",
        "  # input: list: trainingSet, testInstance; int: k\n",
        "  # output: list: neighbors (k vectors)\n",
        "  \n",
        "\tdistances = []\n",
        "\tlength = len(testInstance)-1\n",
        "\tfor x in range(len(trainingSet)):\n",
        "\t\tdist = euclideanDistance(testInstance, trainingSet[x], length)\n",
        "\t\tdistances.append((trainingSet[x], dist))\n",
        "\tdistances.sort(key=operator.itemgetter(1))\n",
        "\tneighbors = []\n",
        "\tfor x in range(k):\n",
        "\t\tneighbors.append(distances[x][0])\n",
        "\treturn neighbors\n",
        "\n",
        "def getResponse(neighbors):\n",
        "  # compute the majority vote\n",
        "  # input: list: neighbors\n",
        "  # output: char: sortedVotes[0][0]\n",
        "\tclassVotes = {}\n",
        "\tfor x in range(len(neighbors)):\n",
        "\t\tresponse = neighbors[x][-1]\n",
        "\t\tif response in classVotes:\n",
        "\t\t\tclassVotes[response] += 1\n",
        "\t\telse:\n",
        "\t\t\tclassVotes[response] = 1\n",
        "\tsortedVotes = sorted(classVotes.items(), key= lambda x: (x[1],x[0]), reverse=True)\n",
        "\treturn sortedVotes[0][0]\n",
        "\n",
        "def getAccuracy(testSet, predictions):\n",
        "\tcorrect = 0\n",
        "\tfor x in range(len(testSet)):\n",
        "\t\tif testSet[x][-1] == predictions[x]:\n",
        "\t\t\tcorrect += 1\n",
        "\treturn (correct/float(len(testSet))) * 100.0\n",
        "\t\n",
        "def main():\n",
        "\t# prepare data\n",
        "  url = 'https://raw.githubusercontent.com/chlin1/Machine-Learning/master/data/iris.data'\n",
        "  data = pd.read_csv(url, header=None, index_col=None , names=[\"1\",\"2\",\"3\",\"4\",\"y\"])\n",
        "  dataset = data.values\n",
        "  trainingSet=[]\n",
        "  testSet=[]\n",
        "  split = 0.67\n",
        "  loadDataset(dataset, split, trainingSet, testSet)\n",
        "  print('Train set: ' + repr(len(trainingSet)))\n",
        "  print('Test set: ' + repr(len(testSet))) \n",
        "  # generate predictions\n",
        "  predictions=[]\n",
        "  k = 3\n",
        "  for x in range(len(testSet)):\n",
        "\t  neighbors = getNeighbors(trainingSet, testSet[x], k)\n",
        "\t  result = getResponse(neighbors)\n",
        "\t  predictions.append(result)\n",
        "\t  print('> predicted=' + repr(result) + ', actual=' + repr(testSet[x][-1]))\n",
        "  accuracy = getAccuracy(testSet, predictions)\n",
        "  print('Accuracy: ' + repr(accuracy) + '%')\n",
        "\t\n",
        "main()"
      ],
      "execution_count": 113,
      "outputs": [
        {
          "output_type": "stream",
          "text": [
            "Train set: 405\n",
            "Test set: 191\n",
            "> predicted='Iris-setosa', actual='Iris-setosa'\n",
            "> predicted='Iris-setosa', actual='Iris-setosa'\n",
            "> predicted='Iris-setosa', actual='Iris-setosa'\n",
            "> predicted='Iris-setosa', actual='Iris-setosa'\n",
            "> predicted='Iris-setosa', actual='Iris-setosa'\n",
            "> predicted='Iris-setosa', actual='Iris-setosa'\n",
            "> predicted='Iris-setosa', actual='Iris-setosa'\n",
            "> predicted='Iris-setosa', actual='Iris-setosa'\n",
            "> predicted='Iris-setosa', actual='Iris-setosa'\n",
            "> predicted='Iris-setosa', actual='Iris-setosa'\n",
            "> predicted='Iris-setosa', actual='Iris-setosa'\n",
            "> predicted='Iris-setosa', actual='Iris-setosa'\n",
            "> predicted='Iris-setosa', actual='Iris-setosa'\n",
            "> predicted='Iris-setosa', actual='Iris-setosa'\n",
            "> predicted='Iris-setosa', actual='Iris-setosa'\n",
            "> predicted='Iris-setosa', actual='Iris-setosa'\n",
            "> predicted='Iris-setosa', actual='Iris-setosa'\n",
            "> predicted='Iris-setosa', actual='Iris-setosa'\n",
            "> predicted='Iris-setosa', actual='Iris-setosa'\n",
            "> predicted='Iris-setosa', actual='Iris-setosa'\n",
            "> predicted='Iris-setosa', actual='Iris-setosa'\n",
            "> predicted='Iris-setosa', actual='Iris-setosa'\n",
            "> predicted='Iris-setosa', actual='Iris-setosa'\n",
            "> predicted='Iris-setosa', actual='Iris-setosa'\n",
            "> predicted='Iris-setosa', actual='Iris-setosa'\n",
            "> predicted='Iris-setosa', actual='Iris-setosa'\n",
            "> predicted='Iris-setosa', actual='Iris-setosa'\n",
            "> predicted='Iris-setosa', actual='Iris-setosa'\n",
            "> predicted='Iris-setosa', actual='Iris-setosa'\n",
            "> predicted='Iris-setosa', actual='Iris-setosa'\n",
            "> predicted='Iris-setosa', actual='Iris-setosa'\n",
            "> predicted='Iris-setosa', actual='Iris-setosa'\n",
            "> predicted='Iris-setosa', actual='Iris-setosa'\n",
            "> predicted='Iris-setosa', actual='Iris-setosa'\n",
            "> predicted='Iris-setosa', actual='Iris-setosa'\n",
            "> predicted='Iris-setosa', actual='Iris-setosa'\n",
            "> predicted='Iris-setosa', actual='Iris-setosa'\n",
            "> predicted='Iris-setosa', actual='Iris-setosa'\n",
            "> predicted='Iris-setosa', actual='Iris-setosa'\n",
            "> predicted='Iris-setosa', actual='Iris-setosa'\n",
            "> predicted='Iris-setosa', actual='Iris-setosa'\n",
            "> predicted='Iris-setosa', actual='Iris-setosa'\n",
            "> predicted='Iris-setosa', actual='Iris-setosa'\n",
            "> predicted='Iris-setosa', actual='Iris-setosa'\n",
            "> predicted='Iris-setosa', actual='Iris-setosa'\n",
            "> predicted='Iris-setosa', actual='Iris-setosa'\n",
            "> predicted='Iris-setosa', actual='Iris-setosa'\n",
            "> predicted='Iris-setosa', actual='Iris-setosa'\n",
            "> predicted='Iris-setosa', actual='Iris-setosa'\n",
            "> predicted='Iris-setosa', actual='Iris-setosa'\n",
            "> predicted='Iris-setosa', actual='Iris-setosa'\n",
            "> predicted='Iris-setosa', actual='Iris-setosa'\n",
            "> predicted='Iris-setosa', actual='Iris-setosa'\n",
            "> predicted='Iris-setosa', actual='Iris-setosa'\n",
            "> predicted='Iris-setosa', actual='Iris-setosa'\n",
            "> predicted='Iris-setosa', actual='Iris-setosa'\n",
            "> predicted='Iris-setosa', actual='Iris-setosa'\n",
            "> predicted='Iris-setosa', actual='Iris-setosa'\n",
            "> predicted='Iris-setosa', actual='Iris-setosa'\n",
            "> predicted='Iris-setosa', actual='Iris-setosa'\n",
            "> predicted='Iris-setosa', actual='Iris-setosa'\n",
            "> predicted='Iris-setosa', actual='Iris-setosa'\n",
            "> predicted='Iris-setosa', actual='Iris-setosa'\n",
            "> predicted='Iris-versicolor', actual='Iris-versicolor'\n",
            "> predicted='Iris-versicolor', actual='Iris-versicolor'\n",
            "> predicted='Iris-versicolor', actual='Iris-versicolor'\n",
            "> predicted='Iris-versicolor', actual='Iris-versicolor'\n",
            "> predicted='Iris-versicolor', actual='Iris-versicolor'\n",
            "> predicted='Iris-versicolor', actual='Iris-versicolor'\n",
            "> predicted='Iris-versicolor', actual='Iris-versicolor'\n",
            "> predicted='Iris-versicolor', actual='Iris-versicolor'\n",
            "> predicted='Iris-versicolor', actual='Iris-versicolor'\n",
            "> predicted='Iris-versicolor', actual='Iris-versicolor'\n",
            "> predicted='Iris-versicolor', actual='Iris-versicolor'\n",
            "> predicted='Iris-versicolor', actual='Iris-versicolor'\n",
            "> predicted='Iris-versicolor', actual='Iris-versicolor'\n",
            "> predicted='Iris-versicolor', actual='Iris-versicolor'\n",
            "> predicted='Iris-versicolor', actual='Iris-versicolor'\n",
            "> predicted='Iris-versicolor', actual='Iris-versicolor'\n",
            "> predicted='Iris-versicolor', actual='Iris-versicolor'\n",
            "> predicted='Iris-versicolor', actual='Iris-versicolor'\n",
            "> predicted='Iris-versicolor', actual='Iris-versicolor'\n",
            "> predicted='Iris-versicolor', actual='Iris-versicolor'\n",
            "> predicted='Iris-versicolor', actual='Iris-versicolor'\n",
            "> predicted='Iris-versicolor', actual='Iris-versicolor'\n",
            "> predicted='Iris-versicolor', actual='Iris-versicolor'\n",
            "> predicted='Iris-versicolor', actual='Iris-versicolor'\n",
            "> predicted='Iris-versicolor', actual='Iris-versicolor'\n",
            "> predicted='Iris-versicolor', actual='Iris-versicolor'\n",
            "> predicted='Iris-versicolor', actual='Iris-versicolor'\n",
            "> predicted='Iris-versicolor', actual='Iris-versicolor'\n",
            "> predicted='Iris-versicolor', actual='Iris-versicolor'\n",
            "> predicted='Iris-versicolor', actual='Iris-versicolor'\n",
            "> predicted='Iris-versicolor', actual='Iris-versicolor'\n",
            "> predicted='Iris-versicolor', actual='Iris-versicolor'\n",
            "> predicted='Iris-versicolor', actual='Iris-versicolor'\n",
            "> predicted='Iris-versicolor', actual='Iris-versicolor'\n",
            "> predicted='Iris-versicolor', actual='Iris-versicolor'\n",
            "> predicted='Iris-versicolor', actual='Iris-versicolor'\n",
            "> predicted='Iris-versicolor', actual='Iris-versicolor'\n",
            "> predicted='Iris-versicolor', actual='Iris-versicolor'\n",
            "> predicted='Iris-versicolor', actual='Iris-versicolor'\n",
            "> predicted='Iris-versicolor', actual='Iris-versicolor'\n",
            "> predicted='Iris-versicolor', actual='Iris-versicolor'\n",
            "> predicted='Iris-versicolor', actual='Iris-versicolor'\n",
            "> predicted='Iris-versicolor', actual='Iris-versicolor'\n",
            "> predicted='Iris-versicolor', actual='Iris-versicolor'\n",
            "> predicted='Iris-versicolor', actual='Iris-versicolor'\n",
            "> predicted='Iris-versicolor', actual='Iris-versicolor'\n",
            "> predicted='Iris-versicolor', actual='Iris-versicolor'\n",
            "> predicted='Iris-versicolor', actual='Iris-versicolor'\n",
            "> predicted='Iris-versicolor', actual='Iris-versicolor'\n",
            "> predicted='Iris-versicolor', actual='Iris-versicolor'\n",
            "> predicted='Iris-versicolor', actual='Iris-versicolor'\n",
            "> predicted='Iris-versicolor', actual='Iris-versicolor'\n",
            "> predicted='Iris-versicolor', actual='Iris-versicolor'\n",
            "> predicted='Iris-versicolor', actual='Iris-versicolor'\n",
            "> predicted='Iris-versicolor', actual='Iris-versicolor'\n",
            "> predicted='Iris-versicolor', actual='Iris-versicolor'\n",
            "> predicted='Iris-versicolor', actual='Iris-versicolor'\n",
            "> predicted='Iris-versicolor', actual='Iris-versicolor'\n",
            "> predicted='Iris-virginica', actual='Iris-virginica'\n",
            "> predicted='Iris-virginica', actual='Iris-virginica'\n",
            "> predicted='Iris-virginica', actual='Iris-virginica'\n",
            "> predicted='Iris-virginica', actual='Iris-virginica'\n",
            "> predicted='Iris-virginica', actual='Iris-virginica'\n",
            "> predicted='Iris-virginica', actual='Iris-virginica'\n",
            "> predicted='Iris-virginica', actual='Iris-virginica'\n",
            "> predicted='Iris-virginica', actual='Iris-virginica'\n",
            "> predicted='Iris-virginica', actual='Iris-virginica'\n",
            "> predicted='Iris-versicolor', actual='Iris-virginica'\n",
            "> predicted='Iris-versicolor', actual='Iris-virginica'\n",
            "> predicted='Iris-versicolor', actual='Iris-virginica'\n",
            "> predicted='Iris-virginica', actual='Iris-virginica'\n",
            "> predicted='Iris-virginica', actual='Iris-virginica'\n",
            "> predicted='Iris-virginica', actual='Iris-virginica'\n",
            "> predicted='Iris-virginica', actual='Iris-virginica'\n",
            "> predicted='Iris-virginica', actual='Iris-virginica'\n",
            "> predicted='Iris-virginica', actual='Iris-virginica'\n",
            "> predicted='Iris-virginica', actual='Iris-virginica'\n",
            "> predicted='Iris-virginica', actual='Iris-virginica'\n",
            "> predicted='Iris-virginica', actual='Iris-virginica'\n",
            "> predicted='Iris-virginica', actual='Iris-virginica'\n",
            "> predicted='Iris-virginica', actual='Iris-virginica'\n",
            "> predicted='Iris-virginica', actual='Iris-virginica'\n",
            "> predicted='Iris-virginica', actual='Iris-virginica'\n",
            "> predicted='Iris-virginica', actual='Iris-virginica'\n",
            "> predicted='Iris-virginica', actual='Iris-virginica'\n",
            "> predicted='Iris-virginica', actual='Iris-virginica'\n",
            "> predicted='Iris-virginica', actual='Iris-virginica'\n",
            "> predicted='Iris-virginica', actual='Iris-virginica'\n",
            "> predicted='Iris-virginica', actual='Iris-virginica'\n",
            "> predicted='Iris-virginica', actual='Iris-virginica'\n",
            "> predicted='Iris-virginica', actual='Iris-virginica'\n",
            "> predicted='Iris-virginica', actual='Iris-virginica'\n",
            "> predicted='Iris-virginica', actual='Iris-virginica'\n",
            "> predicted='Iris-virginica', actual='Iris-virginica'\n",
            "> predicted='Iris-virginica', actual='Iris-virginica'\n",
            "> predicted='Iris-virginica', actual='Iris-virginica'\n",
            "> predicted='Iris-virginica', actual='Iris-virginica'\n",
            "> predicted='Iris-virginica', actual='Iris-virginica'\n",
            "> predicted='Iris-virginica', actual='Iris-virginica'\n",
            "> predicted='Iris-virginica', actual='Iris-virginica'\n",
            "> predicted='Iris-virginica', actual='Iris-virginica'\n",
            "> predicted='Iris-virginica', actual='Iris-virginica'\n",
            "> predicted='Iris-virginica', actual='Iris-virginica'\n",
            "> predicted='Iris-virginica', actual='Iris-virginica'\n",
            "> predicted='Iris-virginica', actual='Iris-virginica'\n",
            "> predicted='Iris-virginica', actual='Iris-virginica'\n",
            "> predicted='Iris-virginica', actual='Iris-virginica'\n",
            "> predicted='Iris-virginica', actual='Iris-virginica'\n",
            "> predicted='Iris-virginica', actual='Iris-virginica'\n",
            "> predicted='Iris-virginica', actual='Iris-virginica'\n",
            "> predicted='Iris-virginica', actual='Iris-virginica'\n",
            "> predicted='Iris-virginica', actual='Iris-virginica'\n",
            "> predicted='Iris-virginica', actual='Iris-virginica'\n",
            "> predicted='Iris-virginica', actual='Iris-virginica'\n",
            "> predicted='Iris-virginica', actual='Iris-virginica'\n",
            "> predicted='Iris-virginica', actual='Iris-virginica'\n",
            "> predicted='Iris-virginica', actual='Iris-virginica'\n",
            "> predicted='Iris-virginica', actual='Iris-virginica'\n",
            "> predicted='Iris-virginica', actual='Iris-virginica'\n",
            "> predicted='Iris-virginica', actual='Iris-virginica'\n",
            "> predicted='Iris-virginica', actual='Iris-virginica'\n",
            "> predicted='Iris-virginica', actual='Iris-virginica'\n",
            "> predicted='Iris-virginica', actual='Iris-virginica'\n",
            "> predicted='Iris-virginica', actual='Iris-virginica'\n",
            "> predicted='Iris-virginica', actual='Iris-virginica'\n",
            "> predicted='Iris-virginica', actual='Iris-virginica'\n",
            "> predicted='Iris-virginica', actual='Iris-virginica'\n",
            "> predicted='Iris-virginica', actual='Iris-virginica'\n",
            "Accuracy: 98.42931937172776%\n"
          ],
          "name": "stdout"
        }
      ]
    },
    {
      "metadata": {
        "id": "4x96sdjwZZfL",
        "colab_type": "text"
      },
      "cell_type": "markdown",
      "source": [
        "### [str() vs repr() in Python](https://www.geeksforgeeks.org/str-vs-repr-in-python/)\n",
        "\n",
        "- str() is used for creating output for end user while repr() is mainly used for debugging and development. repr’s goal is to be unambiguous and str’s is to be readable\n",
        "\n",
        "- repr() compute the “official” string representation of an object (a representation that has all information about the abject) and str() is used to compute the “informal” string representation of an object (a representation that is useful for printing the object)."
      ]
    },
    {
      "metadata": {
        "id": "X8UH5WKI2kx4",
        "colab_type": "code",
        "colab": {
          "base_uri": "https://localhost:8080/",
          "height": 90
        },
        "outputId": "16220bf4-c36a-4d3b-815c-ca685faf4332"
      },
      "cell_type": "code",
      "source": [
        "s = 'Hello, Geeks.'\n",
        "print (str(s)) \n",
        "print (str(2.0/11.0))\n",
        "print (repr(s) )\n",
        "print (repr(2.0/11.0))"
      ],
      "execution_count": 116,
      "outputs": [
        {
          "output_type": "stream",
          "text": [
            "Hello, Geeks.\n",
            "0.18181818181818182\n",
            "'Hello, Geeks.'\n",
            "0.18181818181818182\n"
          ],
          "name": "stdout"
        }
      ]
    },
    {
      "metadata": {
        "id": "LUr3U33TaBpD",
        "colab_type": "code",
        "colab": {
          "base_uri": "https://localhost:8080/",
          "height": 54
        },
        "outputId": "96510129-51b2-4199-8459-101164be7b59"
      },
      "cell_type": "code",
      "source": [
        "import datetime \n",
        "today = datetime.datetime.now() \n",
        "  \n",
        "# Prints readable format for date-time object \n",
        "print (str(today) )\n",
        "  \n",
        "# prints the official format of date-time object \n",
        "print (repr(today))"
      ],
      "execution_count": 118,
      "outputs": [
        {
          "output_type": "stream",
          "text": [
            "2019-04-10 22:41:09.075873\n",
            "datetime.datetime(2019, 4, 10, 22, 41, 9, 75873)\n"
          ],
          "name": "stdout"
        }
      ]
    },
    {
      "metadata": {
        "id": "voQsVkv2Zl2T",
        "colab_type": "code",
        "colab": {}
      },
      "cell_type": "code",
      "source": [
        ""
      ],
      "execution_count": 0,
      "outputs": []
    }
  ]
}